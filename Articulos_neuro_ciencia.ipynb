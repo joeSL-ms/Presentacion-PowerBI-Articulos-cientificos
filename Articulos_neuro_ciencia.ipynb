{
 "cells": [
  {
   "attachments": {},
   "cell_type": "markdown",
   "metadata": {},
   "source": []
  },
  {
   "cell_type": "code",
   "execution_count": 1,
   "metadata": {},
   "outputs": [],
   "source": [
    "import jsl\n",
    "import pandas as pd\n",
    "import PyPDF2\n",
    "import urllib.request\n",
    "import re"
   ]
  },
  {
   "cell_type": "code",
   "execution_count": null,
   "metadata": {},
   "outputs": [],
   "source": [
    "#Right Temporoparietal Junction\n",
    "#pneumothorax pathophysiology\n",
    "#clean energy technologies\n",
    "#economy growth factors\n",
    "#black hole entropy"
   ]
  },
  {
   "cell_type": "code",
   "execution_count": 2,
   "metadata": {},
   "outputs": [],
   "source": [
    "busqueda_1=jsl.google_academy()\n",
    "busqueda_1.buscar()"
   ]
  },
  {
   "cell_type": "code",
   "execution_count": 3,
   "metadata": {},
   "outputs": [],
   "source": [
    "diccionarioRTJ=busqueda_1.diccionario()"
   ]
  },
  {
   "cell_type": "code",
   "execution_count": 4,
   "metadata": {},
   "outputs": [],
   "source": [
    "busqueda_2=jsl.google_academy()\n",
    "busqueda_2.buscar()"
   ]
  },
  {
   "cell_type": "code",
   "execution_count": 5,
   "metadata": {},
   "outputs": [],
   "source": [
    "diccionarioPXP=busqueda_2.diccionario()"
   ]
  },
  {
   "cell_type": "code",
   "execution_count": 6,
   "metadata": {},
   "outputs": [],
   "source": [
    "busqueda_3=jsl.google_academy()\n",
    "busqueda_3.buscar()"
   ]
  },
  {
   "cell_type": "code",
   "execution_count": 7,
   "metadata": {},
   "outputs": [],
   "source": [
    "diccionarioCET=busqueda_3.diccionario()"
   ]
  },
  {
   "cell_type": "code",
   "execution_count": 8,
   "metadata": {},
   "outputs": [],
   "source": [
    "busqueda_4=jsl.google_academy()\n",
    "busqueda_4.buscar()"
   ]
  },
  {
   "cell_type": "code",
   "execution_count": 9,
   "metadata": {},
   "outputs": [],
   "source": [
    "diccionarioEGF=busqueda_4.diccionario()"
   ]
  },
  {
   "cell_type": "code",
   "execution_count": 10,
   "metadata": {},
   "outputs": [],
   "source": [
    "busqueda_5=jsl.google_academy()\n",
    "busqueda_5.buscar()"
   ]
  },
  {
   "cell_type": "code",
   "execution_count": 26,
   "metadata": {},
   "outputs": [],
   "source": [
    "diccionarioBHE=busqueda_5.diccionario()"
   ]
  },
  {
   "cell_type": "code",
   "execution_count": 13,
   "metadata": {},
   "outputs": [],
   "source": [
    "def df(dicio):\n",
    "    Diccionario=dicio.result()\n",
    "    titulos=list(Diccionario.keys())\n",
    "    url=list(Diccionario.values())\n",
    "    return pd.DataFrame({'Titulos':titulos,'URL':url,'HUBsci':['https://sci-hub.se/'+e for e in url]})"
   ]
  },
  {
   "cell_type": "code",
   "execution_count": 14,
   "metadata": {},
   "outputs": [],
   "source": [
    "RTJ=df(diccionarioRTJ)"
   ]
  },
  {
   "cell_type": "code",
   "execution_count": 264,
   "metadata": {},
   "outputs": [],
   "source": [
    "RTJ['Categoria']='NeuroCiencia'\n",
    "RTJ.to_csv('Neuro.csv',index=False)"
   ]
  },
  {
   "cell_type": "code",
   "execution_count": 18,
   "metadata": {},
   "outputs": [],
   "source": [
    "PXP=df(diccionarioPXP)"
   ]
  },
  {
   "cell_type": "code",
   "execution_count": 265,
   "metadata": {},
   "outputs": [],
   "source": [
    "PXP['Categoria']='Medicina'\n",
    "PXP.to_csv('Medicina.csv',index=False)"
   ]
  },
  {
   "cell_type": "code",
   "execution_count": 19,
   "metadata": {},
   "outputs": [],
   "source": [
    "CET=df(diccionarioCET)"
   ]
  },
  {
   "cell_type": "code",
   "execution_count": 266,
   "metadata": {},
   "outputs": [],
   "source": [
    "CET['Categoria']='Ingenieria'\n",
    "CET.to_csv('Ingenieria.csv',index=False)"
   ]
  },
  {
   "cell_type": "code",
   "execution_count": 20,
   "metadata": {},
   "outputs": [],
   "source": [
    "EGF=df(diccionarioEGF)"
   ]
  },
  {
   "cell_type": "code",
   "execution_count": 267,
   "metadata": {},
   "outputs": [],
   "source": [
    "EGF['Categoria']='Economia'\n",
    "EGF.to_csv('Economia.csv',index=False)"
   ]
  },
  {
   "cell_type": "code",
   "execution_count": 35,
   "metadata": {},
   "outputs": [],
   "source": [
    "BHE=df(diccionarioBHE)"
   ]
  },
  {
   "cell_type": "code",
   "execution_count": 268,
   "metadata": {},
   "outputs": [],
   "source": [
    "BHE['Categoria']='Fisica' \n",
    "BHE.to_csv('Fisica.csv',index=False)"
   ]
  },
  {
   "attachments": {},
   "cell_type": "markdown",
   "metadata": {},
   "source": [
    "COMPLETAR INFORMACION"
   ]
  },
  {
   "cell_type": "code",
   "execution_count": 39,
   "metadata": {},
   "outputs": [],
   "source": [
    "inf=jsl.google_academy()\n",
    "info=inf.info(list(RTJ['HUBsci']))"
   ]
  },
  {
   "cell_type": "code",
   "execution_count": 41,
   "metadata": {},
   "outputs": [],
   "source": [
    "inf2=jsl.google_academy()\n",
    "info2=inf2.info(list(PXP['HUBsci']))\n",
    "inf3=jsl.google_academy()\n",
    "info3=inf3.info(list(CET['HUBsci']))\n",
    "inf4=jsl.google_academy()\n",
    "info4=inf4.info(list(EGF['HUBsci']))\n",
    "inf5=jsl.google_academy()\n",
    "info5=inf5.info(list(BHE['HUBsci']))"
   ]
  },
  {
   "cell_type": "code",
   "execution_count": 51,
   "metadata": {},
   "outputs": [
    {
     "data": {
      "text/plain": [
       "<Future finished result={'aurotes': ['Jacobson,T.,...,G.,&Myers,R.', 'Ashtekar,A.,...,A.,&Krasnov,', 'NaN', 'Hayward,S.A....,&Ashworth,M.', 'NaN', 'Domagala,M.,&Lewandowski,', ...], 'año': ['(1994)', '(1998)', 'NaN', '(1999)', 'NaN', '(2004)', ...], 'descripcion': ['On black hol...), 6587–6598.', 'Quantum Geom...(5), 904–907.', 'NaN', 'Dynamic blac...-6), 347–350.', 'NaN', 'Black-hole e...), 5233–5243.', ...]}>"
      ]
     },
     "execution_count": 51,
     "metadata": {},
     "output_type": "execute_result"
    }
   ],
   "source": []
  },
  {
   "cell_type": "code",
   "execution_count": 46,
   "metadata": {},
   "outputs": [],
   "source": [
    "Neuro=pd.concat([RTJ, pd.DataFrame(info.result())],axis=1)"
   ]
  },
  {
   "cell_type": "code",
   "execution_count": 52,
   "metadata": {},
   "outputs": [],
   "source": [
    "Medi=pd.concat([PXP, pd.DataFrame(info2.result())],axis=1)\n",
    "Inge=pd.concat([CET, pd.DataFrame(info3.result())],axis=1)\n",
    "Eco=pd.concat([EGF, pd.DataFrame(info4.result())],axis=1)\n",
    "Fisi=pd.concat([BHE, pd.DataFrame(info5.result())],axis=1)"
   ]
  },
  {
   "cell_type": "code",
   "execution_count": 58,
   "metadata": {},
   "outputs": [],
   "source": [
    "Neuro=Neuro.rename(columns={'aurotes':'Autores','descripcion':'Descripcion','año':'Año'})\n",
    "Medi=Medi.rename(columns={'aurotes':'Autores','descripcion':'Descripcion','año':'Año'})\n",
    "Inge=Inge.rename(columns={'aurotes':'Autores','descripcion':'Descripcion','año':'Año'})\n",
    "Eco=Eco.rename(columns={'aurotes':'Autores','descripcion':'Descripcion','año':'Año'})\n",
    "Fisi=Fisi.rename(columns={'aurotes':'Autores','descripcion':'Descripcion','año':'Año'})"
   ]
  },
  {
   "cell_type": "code",
   "execution_count": 71,
   "metadata": {},
   "outputs": [],
   "source": [
    "Neuro_t=Neuro[Neuro.Autores!='NaN'].reset_index(drop=True)\n",
    "Medi_t=Medi[Medi.Autores!='NaN'].reset_index(drop=True)\n",
    "Inge_t=Inge[Inge.Autores!='NaN'].reset_index(drop=True)\n",
    "Eco_t=Eco[Eco.Autores!='NaN'].reset_index(drop=True)\n",
    "Fisi_t=Fisi[Fisi.Autores!='NaN'].reset_index(drop=True)"
   ]
  },
  {
   "cell_type": "code",
   "execution_count": 74,
   "metadata": {},
   "outputs": [],
   "source": [
    "Neuro_t.Año=Neuro_t.Año.str.replace('(', '').str.replace(')', '').astype(int)\n",
    "Medi_t.Año=Medi_t.Año.str.replace('(', '').str.replace(')', '').astype(int)\n",
    "Inge_t.Año=Inge_t.Año.str.replace('(', '').str.replace(')', '').astype(int)\n",
    "Eco_t.Año=Eco_t.Año.str.replace('(', '').str.replace(')', '').astype(int)\n",
    "Fisi_t.Año=Fisi_t.Año.str.replace('(', '').str.replace(')', '').astype(int)"
   ]
  },
  {
   "cell_type": "code",
   "execution_count": 76,
   "metadata": {},
   "outputs": [],
   "source": [
    "Neuro_t=Neuro_t.drop(columns='URL')\n",
    "Medi_t=Medi_t.drop(columns='URL')\n",
    "Inge_t=Inge_t.drop(columns='URL')\n",
    "Eco_t=Eco_t.drop(columns='URL')\n",
    "Fisi_t=Fisi_t.drop(columns='URL')"
   ]
  },
  {
   "cell_type": "code",
   "execution_count": 86,
   "metadata": {},
   "outputs": [
    {
     "data": {
      "text/html": [
       "<div>\n",
       "<style scoped>\n",
       "    .dataframe tbody tr th:only-of-type {\n",
       "        vertical-align: middle;\n",
       "    }\n",
       "\n",
       "    .dataframe tbody tr th {\n",
       "        vertical-align: top;\n",
       "    }\n",
       "\n",
       "    .dataframe thead th {\n",
       "        text-align: right;\n",
       "    }\n",
       "</style>\n",
       "<table border=\"1\" class=\"dataframe\">\n",
       "  <thead>\n",
       "    <tr style=\"text-align: right;\">\n",
       "      <th></th>\n",
       "      <th>ID</th>\n",
       "      <th>Titulos</th>\n",
       "      <th>HUBsci</th>\n",
       "      <th>Categoria</th>\n",
       "      <th>Autores</th>\n",
       "      <th>Descripcion</th>\n",
       "      <th>Año</th>\n",
       "    </tr>\n",
       "  </thead>\n",
       "  <tbody>\n",
       "    <tr>\n",
       "      <th>0</th>\n",
       "      <td>0</td>\n",
       "      <td>The role of the right temporoparietal junction...</td>\n",
       "      <td>https://sci-hub.se/https://link.springer.com/a...</td>\n",
       "      <td>NeuroCiencia</td>\n",
       "      <td>Krall,S.C.,Rottschy,C.,Oberwelland,E.,Bzdok,D....</td>\n",
       "      <td>The role of the right temporoparietal junction...</td>\n",
       "      <td>2014</td>\n",
       "    </tr>\n",
       "    <tr>\n",
       "      <th>1</th>\n",
       "      <td>1</td>\n",
       "      <td>The role of the right temporoparietal junction...</td>\n",
       "      <td>https://sci-hub.se/https://journals.sagepub.co...</td>\n",
       "      <td>NeuroCiencia</td>\n",
       "      <td>Decety,J.,&amp;Lamm,</td>\n",
       "      <td>The Role of the Right Temporoparietal Junction...</td>\n",
       "      <td>2007</td>\n",
       "    </tr>\n",
       "    <tr>\n",
       "      <th>2</th>\n",
       "      <td>2</td>\n",
       "      <td>[HTML] Enhancing social ability by stimulating...</td>\n",
       "      <td>https://sci-hub.se/https://www.sciencedirect.c...</td>\n",
       "      <td>NeuroCiencia</td>\n",
       "      <td>Santiesteban,I.,Banissy,M.J.,Catmur,C.,&amp;Bird,</td>\n",
       "      <td>Enhancing Social Ability by Stimulating Right ...</td>\n",
       "      <td>2012</td>\n",
       "    </tr>\n",
       "    <tr>\n",
       "      <th>3</th>\n",
       "      <td>3</td>\n",
       "      <td>Making sense of another mind: the role of the ...</td>\n",
       "      <td>https://sci-hub.se/https://www.sciencedirect.c...</td>\n",
       "      <td>NeuroCiencia</td>\n",
       "      <td>SAXE,R.,&amp;WEXLER,</td>\n",
       "      <td>Making sense of another mind: The role of the ...</td>\n",
       "      <td>2005</td>\n",
       "    </tr>\n",
       "    <tr>\n",
       "      <th>4</th>\n",
       "      <td>4</td>\n",
       "      <td>Right temporoparietal junction and attentional...</td>\n",
       "      <td>https://sci-hub.se/https://onlinelibrary.wiley...</td>\n",
       "      <td>NeuroCiencia</td>\n",
       "      <td>Chang,C.-F.,Hsu,T.-Y.,Tseng,P.,Liang,W.-K.,Tze...</td>\n",
       "      <td>Right temporoparietal junction and attentional...</td>\n",
       "      <td>2012</td>\n",
       "    </tr>\n",
       "    <tr>\n",
       "      <th>...</th>\n",
       "      <td>...</td>\n",
       "      <td>...</td>\n",
       "      <td>...</td>\n",
       "      <td>...</td>\n",
       "      <td>...</td>\n",
       "      <td>...</td>\n",
       "      <td>...</td>\n",
       "    </tr>\n",
       "    <tr>\n",
       "      <th>878</th>\n",
       "      <td>878</td>\n",
       "      <td>Why is the black hole entropy (almost) linear ...</td>\n",
       "      <td>https://sci-hub.se/https://journals.aps.org/pr...</td>\n",
       "      <td>Fisica</td>\n",
       "      <td>Gour,G.,&amp;Mayo,A.</td>\n",
       "      <td>Why is the black hole entropy (almost) linear ...</td>\n",
       "      <td>2001</td>\n",
       "    </tr>\n",
       "    <tr>\n",
       "      <th>879</th>\n",
       "      <td>879</td>\n",
       "      <td>Scalar field contribution to rotating black ho...</td>\n",
       "      <td>https://sci-hub.se/https://journals.aps.org/pr...</td>\n",
       "      <td>Fisica</td>\n",
       "      <td>Kenmoku,M.,Ishimoto,K.,Nandi,K.K.,&amp;Shigemoto,</td>\n",
       "      <td>Scalar field contribution to rotating black ho...</td>\n",
       "      <td>2006</td>\n",
       "    </tr>\n",
       "    <tr>\n",
       "      <th>880</th>\n",
       "      <td>880</td>\n",
       "      <td>Three-dimensional black hole entropy</td>\n",
       "      <td>https://sci-hub.se/https://iopscience.iop.org/...</td>\n",
       "      <td>Fisica</td>\n",
       "      <td>Troost,J.,&amp;Tsuchiya,</td>\n",
       "      <td>Three-dimensional black hole entropy. Journal ...</td>\n",
       "      <td>2003</td>\n",
       "    </tr>\n",
       "    <tr>\n",
       "      <th>881</th>\n",
       "      <td>881</td>\n",
       "      <td>Einstein and coefficients for a black hole</td>\n",
       "      <td>https://sci-hub.se/https://journals.aps.org/pr...</td>\n",
       "      <td>Fisica</td>\n",
       "      <td>Bekenstein,J.D.,&amp;Meisels,</td>\n",
       "      <td>EinsteinAandBcoefficients for a black hole. Ph...</td>\n",
       "      <td>1977</td>\n",
       "    </tr>\n",
       "    <tr>\n",
       "      <th>882</th>\n",
       "      <td>882</td>\n",
       "      <td>Entropy of quasiblack holes</td>\n",
       "      <td>https://sci-hub.se/https://journals.aps.org/pr...</td>\n",
       "      <td>Fisica</td>\n",
       "      <td>Lemos,J.P.S.,&amp;Zaslavskii,O.</td>\n",
       "      <td>Entropy of quasiblack holes. Physical Review D...</td>\n",
       "      <td>2010</td>\n",
       "    </tr>\n",
       "  </tbody>\n",
       "</table>\n",
       "<p>883 rows × 7 columns</p>\n",
       "</div>"
      ],
      "text/plain": [
       "      ID                                            Titulos  \\\n",
       "0      0  The role of the right temporoparietal junction...   \n",
       "1      1  The role of the right temporoparietal junction...   \n",
       "2      2  [HTML] Enhancing social ability by stimulating...   \n",
       "3      3  Making sense of another mind: the role of the ...   \n",
       "4      4  Right temporoparietal junction and attentional...   \n",
       "..   ...                                                ...   \n",
       "878  878  Why is the black hole entropy (almost) linear ...   \n",
       "879  879  Scalar field contribution to rotating black ho...   \n",
       "880  880               Three-dimensional black hole entropy   \n",
       "881  881         Einstein and coefficients for a black hole   \n",
       "882  882                        Entropy of quasiblack holes   \n",
       "\n",
       "                                                HUBsci     Categoria  \\\n",
       "0    https://sci-hub.se/https://link.springer.com/a...  NeuroCiencia   \n",
       "1    https://sci-hub.se/https://journals.sagepub.co...  NeuroCiencia   \n",
       "2    https://sci-hub.se/https://www.sciencedirect.c...  NeuroCiencia   \n",
       "3    https://sci-hub.se/https://www.sciencedirect.c...  NeuroCiencia   \n",
       "4    https://sci-hub.se/https://onlinelibrary.wiley...  NeuroCiencia   \n",
       "..                                                 ...           ...   \n",
       "878  https://sci-hub.se/https://journals.aps.org/pr...        Fisica   \n",
       "879  https://sci-hub.se/https://journals.aps.org/pr...        Fisica   \n",
       "880  https://sci-hub.se/https://iopscience.iop.org/...        Fisica   \n",
       "881  https://sci-hub.se/https://journals.aps.org/pr...        Fisica   \n",
       "882  https://sci-hub.se/https://journals.aps.org/pr...        Fisica   \n",
       "\n",
       "                                               Autores  \\\n",
       "0    Krall,S.C.,Rottschy,C.,Oberwelland,E.,Bzdok,D....   \n",
       "1                                     Decety,J.,&Lamm,   \n",
       "2        Santiesteban,I.,Banissy,M.J.,Catmur,C.,&Bird,   \n",
       "3                                     SAXE,R.,&WEXLER,   \n",
       "4    Chang,C.-F.,Hsu,T.-Y.,Tseng,P.,Liang,W.-K.,Tze...   \n",
       "..                                                 ...   \n",
       "878                                   Gour,G.,&Mayo,A.   \n",
       "879      Kenmoku,M.,Ishimoto,K.,Nandi,K.K.,&Shigemoto,   \n",
       "880                               Troost,J.,&Tsuchiya,   \n",
       "881                          Bekenstein,J.D.,&Meisels,   \n",
       "882                        Lemos,J.P.S.,&Zaslavskii,O.   \n",
       "\n",
       "                                           Descripcion   Año  \n",
       "0    The role of the right temporoparietal junction...  2014  \n",
       "1    The Role of the Right Temporoparietal Junction...  2007  \n",
       "2    Enhancing Social Ability by Stimulating Right ...  2012  \n",
       "3    Making sense of another mind: The role of the ...  2005  \n",
       "4    Right temporoparietal junction and attentional...  2012  \n",
       "..                                                 ...   ...  \n",
       "878  Why is the black hole entropy (almost) linear ...  2001  \n",
       "879  Scalar field contribution to rotating black ho...  2006  \n",
       "880  Three-dimensional black hole entropy. Journal ...  2003  \n",
       "881  EinsteinAandBcoefficients for a black hole. Ph...  1977  \n",
       "882  Entropy of quasiblack holes. Physical Review D...  2010  \n",
       "\n",
       "[883 rows x 7 columns]"
      ]
     },
     "execution_count": 86,
     "metadata": {},
     "output_type": "execute_result"
    }
   ],
   "source": [
    "Articulos=pd.concat([Neuro_t,Medi_t,Inge_t,Eco_t,Fisi_t]).reset_index(drop=True).reset_index(False)\n",
    "Articulos=Articulos.rename(columns={'index':'ID'})\n",
    "Articulos"
   ]
  },
  {
   "cell_type": "code",
   "execution_count": 87,
   "metadata": {},
   "outputs": [
    {
     "data": {
      "text/plain": [
       "ID              int64\n",
       "Titulos        object\n",
       "HUBsci         object\n",
       "Categoria      object\n",
       "Autores        object\n",
       "Descripcion    object\n",
       "Año             int32\n",
       "dtype: object"
      ]
     },
     "execution_count": 87,
     "metadata": {},
     "output_type": "execute_result"
    }
   ],
   "source": [
    "Articulos.dtypes"
   ]
  },
  {
   "cell_type": "code",
   "execution_count": 273,
   "metadata": {},
   "outputs": [],
   "source": [
    "Articulos.to_csv('Articulos.csv',index=False)"
   ]
  },
  {
   "cell_type": "code",
   "execution_count": 260,
   "metadata": {},
   "outputs": [],
   "source": [
    "Articulos=pd.read_csv('Articulos.csv')"
   ]
  },
  {
   "cell_type": "code",
   "execution_count": 182,
   "metadata": {},
   "outputs": [],
   "source": [
    "Articulos['Autores'] = Articulos['Autores'].apply(lambda x: ','.join([e.replace(',', '').replace('…', '').replace('&', '') for e in x.split('.,')]))"
   ]
  },
  {
   "cell_type": "code",
   "execution_count": 274,
   "metadata": {},
   "outputs": [],
   "source": [
    "Articulos['Titulos'] = Articulos['Descripcion'].str.split().str[:10].str.join(' ')"
   ]
  },
  {
   "cell_type": "code",
   "execution_count": 275,
   "metadata": {},
   "outputs": [
    {
     "data": {
      "text/html": [
       "<div>\n",
       "<style scoped>\n",
       "    .dataframe tbody tr th:only-of-type {\n",
       "        vertical-align: middle;\n",
       "    }\n",
       "\n",
       "    .dataframe tbody tr th {\n",
       "        vertical-align: top;\n",
       "    }\n",
       "\n",
       "    .dataframe thead th {\n",
       "        text-align: right;\n",
       "    }\n",
       "</style>\n",
       "<table border=\"1\" class=\"dataframe\">\n",
       "  <thead>\n",
       "    <tr style=\"text-align: right;\">\n",
       "      <th></th>\n",
       "      <th>ID</th>\n",
       "      <th>Titulos</th>\n",
       "      <th>HUBsci</th>\n",
       "      <th>Categoria</th>\n",
       "      <th>Autores</th>\n",
       "      <th>Descripcion</th>\n",
       "      <th>Año</th>\n",
       "    </tr>\n",
       "  </thead>\n",
       "  <tbody>\n",
       "    <tr>\n",
       "      <th>0</th>\n",
       "      <td>0</td>\n",
       "      <td>The role of the right temporoparietal junction...</td>\n",
       "      <td>https://sci-hub.se/https://link.springer.com/a...</td>\n",
       "      <td>NeuroCiencia</td>\n",
       "      <td>KrallS.C,RottschyC,OberwellandE,BzdokD,FoxP.T,...</td>\n",
       "      <td>The role of the right temporoparietal junction...</td>\n",
       "      <td>2014</td>\n",
       "    </tr>\n",
       "    <tr>\n",
       "      <th>1</th>\n",
       "      <td>1</td>\n",
       "      <td>The Role of the Right Temporoparietal Junction...</td>\n",
       "      <td>https://sci-hub.se/https://journals.sagepub.co...</td>\n",
       "      <td>NeuroCiencia</td>\n",
       "      <td>DecetyJ,Lamm</td>\n",
       "      <td>The Role of the Right Temporoparietal Junction...</td>\n",
       "      <td>2007</td>\n",
       "    </tr>\n",
       "    <tr>\n",
       "      <th>2</th>\n",
       "      <td>2</td>\n",
       "      <td>Enhancing Social Ability by Stimulating Right ...</td>\n",
       "      <td>https://sci-hub.se/https://www.sciencedirect.c...</td>\n",
       "      <td>NeuroCiencia</td>\n",
       "      <td>SantiestebanI,BanissyM.J,CatmurC,Bird</td>\n",
       "      <td>Enhancing Social Ability by Stimulating Right ...</td>\n",
       "      <td>2012</td>\n",
       "    </tr>\n",
       "    <tr>\n",
       "      <th>3</th>\n",
       "      <td>3</td>\n",
       "      <td>Making sense of another mind: The role of the ...</td>\n",
       "      <td>https://sci-hub.se/https://www.sciencedirect.c...</td>\n",
       "      <td>NeuroCiencia</td>\n",
       "      <td>SAXER,WEXLER</td>\n",
       "      <td>Making sense of another mind: The role of the ...</td>\n",
       "      <td>2005</td>\n",
       "    </tr>\n",
       "    <tr>\n",
       "      <th>4</th>\n",
       "      <td>4</td>\n",
       "      <td>Right temporoparietal junction and attentional...</td>\n",
       "      <td>https://sci-hub.se/https://onlinelibrary.wiley...</td>\n",
       "      <td>NeuroCiencia</td>\n",
       "      <td>ChangC.-F,HsuT.-Y,TsengP,LiangW.-K,TzengO.J.L,...</td>\n",
       "      <td>Right temporoparietal junction and attentional...</td>\n",
       "      <td>2012</td>\n",
       "    </tr>\n",
       "    <tr>\n",
       "      <th>...</th>\n",
       "      <td>...</td>\n",
       "      <td>...</td>\n",
       "      <td>...</td>\n",
       "      <td>...</td>\n",
       "      <td>...</td>\n",
       "      <td>...</td>\n",
       "      <td>...</td>\n",
       "    </tr>\n",
       "    <tr>\n",
       "      <th>878</th>\n",
       "      <td>878</td>\n",
       "      <td>Why is the black hole entropy (almost) linear ...</td>\n",
       "      <td>https://sci-hub.se/https://journals.aps.org/pr...</td>\n",
       "      <td>Fisica</td>\n",
       "      <td>GourG,MayoA.</td>\n",
       "      <td>Why is the black hole entropy (almost) linear ...</td>\n",
       "      <td>2001</td>\n",
       "    </tr>\n",
       "    <tr>\n",
       "      <th>879</th>\n",
       "      <td>879</td>\n",
       "      <td>Scalar field contribution to rotating black ho...</td>\n",
       "      <td>https://sci-hub.se/https://journals.aps.org/pr...</td>\n",
       "      <td>Fisica</td>\n",
       "      <td>KenmokuM,IshimotoK,NandiK.K,Shigemoto</td>\n",
       "      <td>Scalar field contribution to rotating black ho...</td>\n",
       "      <td>2006</td>\n",
       "    </tr>\n",
       "    <tr>\n",
       "      <th>880</th>\n",
       "      <td>880</td>\n",
       "      <td>Three-dimensional black hole entropy. Journal ...</td>\n",
       "      <td>https://sci-hub.se/https://iopscience.iop.org/...</td>\n",
       "      <td>Fisica</td>\n",
       "      <td>TroostJ,Tsuchiya</td>\n",
       "      <td>Three-dimensional black hole entropy. Journal ...</td>\n",
       "      <td>2003</td>\n",
       "    </tr>\n",
       "    <tr>\n",
       "      <th>881</th>\n",
       "      <td>881</td>\n",
       "      <td>EinsteinAandBcoefficients for a black hole. Ph...</td>\n",
       "      <td>https://sci-hub.se/https://journals.aps.org/pr...</td>\n",
       "      <td>Fisica</td>\n",
       "      <td>BekensteinJ.D,Meisels</td>\n",
       "      <td>EinsteinAandBcoefficients for a black hole. Ph...</td>\n",
       "      <td>1977</td>\n",
       "    </tr>\n",
       "    <tr>\n",
       "      <th>882</th>\n",
       "      <td>882</td>\n",
       "      <td>Entropy of quasiblack holes. Physical Review D...</td>\n",
       "      <td>https://sci-hub.se/https://journals.aps.org/pr...</td>\n",
       "      <td>Fisica</td>\n",
       "      <td>LemosJ.P.S,ZaslavskiiO.</td>\n",
       "      <td>Entropy of quasiblack holes. Physical Review D...</td>\n",
       "      <td>2010</td>\n",
       "    </tr>\n",
       "  </tbody>\n",
       "</table>\n",
       "<p>883 rows × 7 columns</p>\n",
       "</div>"
      ],
      "text/plain": [
       "      ID                                            Titulos  \\\n",
       "0      0  The role of the right temporoparietal junction...   \n",
       "1      1  The Role of the Right Temporoparietal Junction...   \n",
       "2      2  Enhancing Social Ability by Stimulating Right ...   \n",
       "3      3  Making sense of another mind: The role of the ...   \n",
       "4      4  Right temporoparietal junction and attentional...   \n",
       "..   ...                                                ...   \n",
       "878  878  Why is the black hole entropy (almost) linear ...   \n",
       "879  879  Scalar field contribution to rotating black ho...   \n",
       "880  880  Three-dimensional black hole entropy. Journal ...   \n",
       "881  881  EinsteinAandBcoefficients for a black hole. Ph...   \n",
       "882  882  Entropy of quasiblack holes. Physical Review D...   \n",
       "\n",
       "                                                HUBsci     Categoria  \\\n",
       "0    https://sci-hub.se/https://link.springer.com/a...  NeuroCiencia   \n",
       "1    https://sci-hub.se/https://journals.sagepub.co...  NeuroCiencia   \n",
       "2    https://sci-hub.se/https://www.sciencedirect.c...  NeuroCiencia   \n",
       "3    https://sci-hub.se/https://www.sciencedirect.c...  NeuroCiencia   \n",
       "4    https://sci-hub.se/https://onlinelibrary.wiley...  NeuroCiencia   \n",
       "..                                                 ...           ...   \n",
       "878  https://sci-hub.se/https://journals.aps.org/pr...        Fisica   \n",
       "879  https://sci-hub.se/https://journals.aps.org/pr...        Fisica   \n",
       "880  https://sci-hub.se/https://iopscience.iop.org/...        Fisica   \n",
       "881  https://sci-hub.se/https://journals.aps.org/pr...        Fisica   \n",
       "882  https://sci-hub.se/https://journals.aps.org/pr...        Fisica   \n",
       "\n",
       "                                               Autores  \\\n",
       "0    KrallS.C,RottschyC,OberwellandE,BzdokD,FoxP.T,...   \n",
       "1                                         DecetyJ,Lamm   \n",
       "2                SantiestebanI,BanissyM.J,CatmurC,Bird   \n",
       "3                                         SAXER,WEXLER   \n",
       "4    ChangC.-F,HsuT.-Y,TsengP,LiangW.-K,TzengO.J.L,...   \n",
       "..                                                 ...   \n",
       "878                                       GourG,MayoA.   \n",
       "879              KenmokuM,IshimotoK,NandiK.K,Shigemoto   \n",
       "880                                   TroostJ,Tsuchiya   \n",
       "881                              BekensteinJ.D,Meisels   \n",
       "882                            LemosJ.P.S,ZaslavskiiO.   \n",
       "\n",
       "                                           Descripcion   Año  \n",
       "0    The role of the right temporoparietal junction...  2014  \n",
       "1    The Role of the Right Temporoparietal Junction...  2007  \n",
       "2    Enhancing Social Ability by Stimulating Right ...  2012  \n",
       "3    Making sense of another mind: The role of the ...  2005  \n",
       "4    Right temporoparietal junction and attentional...  2012  \n",
       "..                                                 ...   ...  \n",
       "878  Why is the black hole entropy (almost) linear ...  2001  \n",
       "879  Scalar field contribution to rotating black ho...  2006  \n",
       "880  Three-dimensional black hole entropy. Journal ...  2003  \n",
       "881  EinsteinAandBcoefficients for a black hole. Ph...  1977  \n",
       "882  Entropy of quasiblack holes. Physical Review D...  2010  \n",
       "\n",
       "[883 rows x 7 columns]"
      ]
     },
     "execution_count": 275,
     "metadata": {},
     "output_type": "execute_result"
    }
   ],
   "source": [
    "Articulos"
   ]
  },
  {
   "cell_type": "code",
   "execution_count": 277,
   "metadata": {},
   "outputs": [],
   "source": [
    "Articulos.to_csv('Articulos.csv',index=False)"
   ]
  },
  {
   "cell_type": "code",
   "execution_count": 210,
   "metadata": {},
   "outputs": [],
   "source": [
    "Name_tags= [e.split(',') for e in list(Articulos.Autores)]\n",
    "Uni=set([e for e in Name_tags for e in e])\n",
    "Autores=pd.DataFrame({'Autores':list(Uni)})"
   ]
  },
  {
   "cell_type": "code",
   "execution_count": 211,
   "metadata": {},
   "outputs": [],
   "source": [
    "Autores=Autores.sort_values('Autores').reset_index(drop=True).reset_index(False).drop(index=0)"
   ]
  },
  {
   "cell_type": "code",
   "execution_count": 279,
   "metadata": {},
   "outputs": [],
   "source": [
    "Autores=Autores.rename(columns={'index':'ID_AU'})\n",
    "Autores.to_csv('Autores.csv',index=False)"
   ]
  },
  {
   "cell_type": "code",
   "execution_count": 236,
   "metadata": {},
   "outputs": [],
   "source": [
    "Articulos.Autores=Articulos.Autores.apply(lambda x: ','.join(x))"
   ]
  },
  {
   "cell_type": "code",
   "execution_count": 280,
   "metadata": {},
   "outputs": [],
   "source": [
    "dicioner=[]\n",
    "for e in list(Articulos.Autores):\n",
    "    for a in e.split():\n",
    "        if a in list(Autores.Autores):\n",
    "            dicioner.append(a)\n",
    "\n"
   ]
  },
  {
   "cell_type": "code",
   "execution_count": 285,
   "metadata": {},
   "outputs": [],
   "source": [
    "lista_autores = list(Autores['Autores'])\n",
    "nuevo_df_datos = []\n",
    "for index, row in Articulos.iterrows():\n",
    "    autores_articulo = row['Autores']\n",
    "    titulos_articulo = row['Titulos']\n",
    "    autores_encontrados = [autor for autor in autores_articulo.split(',') if autor in lista_autores]\n",
    "    if autores_encontrados:\n",
    "        for autor in autores_encontrados:\n",
    "            nuevo_df_datos.append({'Autor': autor, 'Titulos': titulos_articulo})\n",
    "Relacion = pd.DataFrame(nuevo_df_datos) # lo que no hago, soy autista\n"
   ]
  },
  {
   "cell_type": "code",
   "execution_count": 288,
   "metadata": {},
   "outputs": [],
   "source": [
    "Total_Relation= Articulos.merge(Relacion, on='Titulos', how='inner')"
   ]
  },
  {
   "cell_type": "code",
   "execution_count": 290,
   "metadata": {},
   "outputs": [],
   "source": [
    "Total_Relation.to_csv('Total_Relation.csv',index=False)"
   ]
  },
  {
   "cell_type": "code",
   "execution_count": 294,
   "metadata": {},
   "outputs": [
    {
     "data": {
      "text/html": [
       "<div>\n",
       "<style scoped>\n",
       "    .dataframe tbody tr th:only-of-type {\n",
       "        vertical-align: middle;\n",
       "    }\n",
       "\n",
       "    .dataframe tbody tr th {\n",
       "        vertical-align: top;\n",
       "    }\n",
       "\n",
       "    .dataframe thead th {\n",
       "        text-align: right;\n",
       "    }\n",
       "</style>\n",
       "<table border=\"1\" class=\"dataframe\">\n",
       "  <thead>\n",
       "    <tr style=\"text-align: right;\">\n",
       "      <th></th>\n",
       "      <th>Autor</th>\n",
       "      <th>Titulos</th>\n",
       "    </tr>\n",
       "  </thead>\n",
       "  <tbody>\n",
       "    <tr>\n",
       "      <th>0</th>\n",
       "      <td>KrallS.C</td>\n",
       "      <td>The role of the right temporoparietal junction...</td>\n",
       "    </tr>\n",
       "    <tr>\n",
       "      <th>1</th>\n",
       "      <td>RottschyC</td>\n",
       "      <td>The role of the right temporoparietal junction...</td>\n",
       "    </tr>\n",
       "    <tr>\n",
       "      <th>2</th>\n",
       "      <td>OberwellandE</td>\n",
       "      <td>The role of the right temporoparietal junction...</td>\n",
       "    </tr>\n",
       "    <tr>\n",
       "      <th>3</th>\n",
       "      <td>BzdokD</td>\n",
       "      <td>The role of the right temporoparietal junction...</td>\n",
       "    </tr>\n",
       "    <tr>\n",
       "      <th>4</th>\n",
       "      <td>FoxP.T</td>\n",
       "      <td>The role of the right temporoparietal junction...</td>\n",
       "    </tr>\n",
       "    <tr>\n",
       "      <th>...</th>\n",
       "      <td>...</td>\n",
       "      <td>...</td>\n",
       "    </tr>\n",
       "    <tr>\n",
       "      <th>2976</th>\n",
       "      <td>Tsuchiya</td>\n",
       "      <td>Three-dimensional black hole entropy. Journal ...</td>\n",
       "    </tr>\n",
       "    <tr>\n",
       "      <th>2977</th>\n",
       "      <td>BekensteinJ.D</td>\n",
       "      <td>EinsteinAandBcoefficients for a black hole. Ph...</td>\n",
       "    </tr>\n",
       "    <tr>\n",
       "      <th>2978</th>\n",
       "      <td>Meisels</td>\n",
       "      <td>EinsteinAandBcoefficients for a black hole. Ph...</td>\n",
       "    </tr>\n",
       "    <tr>\n",
       "      <th>2979</th>\n",
       "      <td>LemosJ.P.S</td>\n",
       "      <td>Entropy of quasiblack holes. Physical Review D...</td>\n",
       "    </tr>\n",
       "    <tr>\n",
       "      <th>2980</th>\n",
       "      <td>ZaslavskiiO.</td>\n",
       "      <td>Entropy of quasiblack holes. Physical Review D...</td>\n",
       "    </tr>\n",
       "  </tbody>\n",
       "</table>\n",
       "<p>2981 rows × 2 columns</p>\n",
       "</div>"
      ],
      "text/plain": [
       "              Autor                                            Titulos\n",
       "0          KrallS.C  The role of the right temporoparietal junction...\n",
       "1         RottschyC  The role of the right temporoparietal junction...\n",
       "2      OberwellandE  The role of the right temporoparietal junction...\n",
       "3            BzdokD  The role of the right temporoparietal junction...\n",
       "4            FoxP.T  The role of the right temporoparietal junction...\n",
       "...             ...                                                ...\n",
       "2976       Tsuchiya  Three-dimensional black hole entropy. Journal ...\n",
       "2977  BekensteinJ.D  EinsteinAandBcoefficients for a black hole. Ph...\n",
       "2978        Meisels  EinsteinAandBcoefficients for a black hole. Ph...\n",
       "2979     LemosJ.P.S  Entropy of quasiblack holes. Physical Review D...\n",
       "2980   ZaslavskiiO.  Entropy of quasiblack holes. Physical Review D...\n",
       "\n",
       "[2981 rows x 2 columns]"
      ]
     },
     "execution_count": 294,
     "metadata": {},
     "output_type": "execute_result"
    }
   ],
   "source": [
    "Relacion"
   ]
  },
  {
   "cell_type": "code",
   "execution_count": 292,
   "metadata": {},
   "outputs": [
    {
     "data": {
      "text/html": [
       "<div>\n",
       "<style scoped>\n",
       "    .dataframe tbody tr th:only-of-type {\n",
       "        vertical-align: middle;\n",
       "    }\n",
       "\n",
       "    .dataframe tbody tr th {\n",
       "        vertical-align: top;\n",
       "    }\n",
       "\n",
       "    .dataframe thead th {\n",
       "        text-align: right;\n",
       "    }\n",
       "</style>\n",
       "<table border=\"1\" class=\"dataframe\">\n",
       "  <thead>\n",
       "    <tr style=\"text-align: right;\">\n",
       "      <th></th>\n",
       "      <th>ID</th>\n",
       "      <th>Titulos</th>\n",
       "      <th>HUBsci</th>\n",
       "      <th>Categoria</th>\n",
       "      <th>Autores</th>\n",
       "      <th>Descripcion</th>\n",
       "      <th>Año</th>\n",
       "      <th>Autor</th>\n",
       "    </tr>\n",
       "  </thead>\n",
       "  <tbody>\n",
       "    <tr>\n",
       "      <th>0</th>\n",
       "      <td>0</td>\n",
       "      <td>The role of the right temporoparietal junction...</td>\n",
       "      <td>https://sci-hub.se/https://link.springer.com/a...</td>\n",
       "      <td>NeuroCiencia</td>\n",
       "      <td>KrallS.C,RottschyC,OberwellandE,BzdokD,FoxP.T,...</td>\n",
       "      <td>The role of the right temporoparietal junction...</td>\n",
       "      <td>2014</td>\n",
       "      <td>KrallS.C</td>\n",
       "    </tr>\n",
       "    <tr>\n",
       "      <th>1</th>\n",
       "      <td>0</td>\n",
       "      <td>The role of the right temporoparietal junction...</td>\n",
       "      <td>https://sci-hub.se/https://link.springer.com/a...</td>\n",
       "      <td>NeuroCiencia</td>\n",
       "      <td>KrallS.C,RottschyC,OberwellandE,BzdokD,FoxP.T,...</td>\n",
       "      <td>The role of the right temporoparietal junction...</td>\n",
       "      <td>2014</td>\n",
       "      <td>RottschyC</td>\n",
       "    </tr>\n",
       "    <tr>\n",
       "      <th>2</th>\n",
       "      <td>0</td>\n",
       "      <td>The role of the right temporoparietal junction...</td>\n",
       "      <td>https://sci-hub.se/https://link.springer.com/a...</td>\n",
       "      <td>NeuroCiencia</td>\n",
       "      <td>KrallS.C,RottschyC,OberwellandE,BzdokD,FoxP.T,...</td>\n",
       "      <td>The role of the right temporoparietal junction...</td>\n",
       "      <td>2014</td>\n",
       "      <td>OberwellandE</td>\n",
       "    </tr>\n",
       "    <tr>\n",
       "      <th>3</th>\n",
       "      <td>0</td>\n",
       "      <td>The role of the right temporoparietal junction...</td>\n",
       "      <td>https://sci-hub.se/https://link.springer.com/a...</td>\n",
       "      <td>NeuroCiencia</td>\n",
       "      <td>KrallS.C,RottschyC,OberwellandE,BzdokD,FoxP.T,...</td>\n",
       "      <td>The role of the right temporoparietal junction...</td>\n",
       "      <td>2014</td>\n",
       "      <td>BzdokD</td>\n",
       "    </tr>\n",
       "    <tr>\n",
       "      <th>4</th>\n",
       "      <td>0</td>\n",
       "      <td>The role of the right temporoparietal junction...</td>\n",
       "      <td>https://sci-hub.se/https://link.springer.com/a...</td>\n",
       "      <td>NeuroCiencia</td>\n",
       "      <td>KrallS.C,RottschyC,OberwellandE,BzdokD,FoxP.T,...</td>\n",
       "      <td>The role of the right temporoparietal junction...</td>\n",
       "      <td>2014</td>\n",
       "      <td>FoxP.T</td>\n",
       "    </tr>\n",
       "    <tr>\n",
       "      <th>...</th>\n",
       "      <td>...</td>\n",
       "      <td>...</td>\n",
       "      <td>...</td>\n",
       "      <td>...</td>\n",
       "      <td>...</td>\n",
       "      <td>...</td>\n",
       "      <td>...</td>\n",
       "      <td>...</td>\n",
       "    </tr>\n",
       "    <tr>\n",
       "      <th>2982</th>\n",
       "      <td>880</td>\n",
       "      <td>Three-dimensional black hole entropy. Journal ...</td>\n",
       "      <td>https://sci-hub.se/https://iopscience.iop.org/...</td>\n",
       "      <td>Fisica</td>\n",
       "      <td>TroostJ,Tsuchiya</td>\n",
       "      <td>Three-dimensional black hole entropy. Journal ...</td>\n",
       "      <td>2003</td>\n",
       "      <td>Tsuchiya</td>\n",
       "    </tr>\n",
       "    <tr>\n",
       "      <th>2983</th>\n",
       "      <td>881</td>\n",
       "      <td>EinsteinAandBcoefficients for a black hole. Ph...</td>\n",
       "      <td>https://sci-hub.se/https://journals.aps.org/pr...</td>\n",
       "      <td>Fisica</td>\n",
       "      <td>BekensteinJ.D,Meisels</td>\n",
       "      <td>EinsteinAandBcoefficients for a black hole. Ph...</td>\n",
       "      <td>1977</td>\n",
       "      <td>BekensteinJ.D</td>\n",
       "    </tr>\n",
       "    <tr>\n",
       "      <th>2984</th>\n",
       "      <td>881</td>\n",
       "      <td>EinsteinAandBcoefficients for a black hole. Ph...</td>\n",
       "      <td>https://sci-hub.se/https://journals.aps.org/pr...</td>\n",
       "      <td>Fisica</td>\n",
       "      <td>BekensteinJ.D,Meisels</td>\n",
       "      <td>EinsteinAandBcoefficients for a black hole. Ph...</td>\n",
       "      <td>1977</td>\n",
       "      <td>Meisels</td>\n",
       "    </tr>\n",
       "    <tr>\n",
       "      <th>2985</th>\n",
       "      <td>882</td>\n",
       "      <td>Entropy of quasiblack holes. Physical Review D...</td>\n",
       "      <td>https://sci-hub.se/https://journals.aps.org/pr...</td>\n",
       "      <td>Fisica</td>\n",
       "      <td>LemosJ.P.S,ZaslavskiiO.</td>\n",
       "      <td>Entropy of quasiblack holes. Physical Review D...</td>\n",
       "      <td>2010</td>\n",
       "      <td>LemosJ.P.S</td>\n",
       "    </tr>\n",
       "    <tr>\n",
       "      <th>2986</th>\n",
       "      <td>882</td>\n",
       "      <td>Entropy of quasiblack holes. Physical Review D...</td>\n",
       "      <td>https://sci-hub.se/https://journals.aps.org/pr...</td>\n",
       "      <td>Fisica</td>\n",
       "      <td>LemosJ.P.S,ZaslavskiiO.</td>\n",
       "      <td>Entropy of quasiblack holes. Physical Review D...</td>\n",
       "      <td>2010</td>\n",
       "      <td>ZaslavskiiO.</td>\n",
       "    </tr>\n",
       "  </tbody>\n",
       "</table>\n",
       "<p>2987 rows × 8 columns</p>\n",
       "</div>"
      ],
      "text/plain": [
       "       ID                                            Titulos  \\\n",
       "0       0  The role of the right temporoparietal junction...   \n",
       "1       0  The role of the right temporoparietal junction...   \n",
       "2       0  The role of the right temporoparietal junction...   \n",
       "3       0  The role of the right temporoparietal junction...   \n",
       "4       0  The role of the right temporoparietal junction...   \n",
       "...   ...                                                ...   \n",
       "2982  880  Three-dimensional black hole entropy. Journal ...   \n",
       "2983  881  EinsteinAandBcoefficients for a black hole. Ph...   \n",
       "2984  881  EinsteinAandBcoefficients for a black hole. Ph...   \n",
       "2985  882  Entropy of quasiblack holes. Physical Review D...   \n",
       "2986  882  Entropy of quasiblack holes. Physical Review D...   \n",
       "\n",
       "                                                 HUBsci     Categoria  \\\n",
       "0     https://sci-hub.se/https://link.springer.com/a...  NeuroCiencia   \n",
       "1     https://sci-hub.se/https://link.springer.com/a...  NeuroCiencia   \n",
       "2     https://sci-hub.se/https://link.springer.com/a...  NeuroCiencia   \n",
       "3     https://sci-hub.se/https://link.springer.com/a...  NeuroCiencia   \n",
       "4     https://sci-hub.se/https://link.springer.com/a...  NeuroCiencia   \n",
       "...                                                 ...           ...   \n",
       "2982  https://sci-hub.se/https://iopscience.iop.org/...        Fisica   \n",
       "2983  https://sci-hub.se/https://journals.aps.org/pr...        Fisica   \n",
       "2984  https://sci-hub.se/https://journals.aps.org/pr...        Fisica   \n",
       "2985  https://sci-hub.se/https://journals.aps.org/pr...        Fisica   \n",
       "2986  https://sci-hub.se/https://journals.aps.org/pr...        Fisica   \n",
       "\n",
       "                                                Autores  \\\n",
       "0     KrallS.C,RottschyC,OberwellandE,BzdokD,FoxP.T,...   \n",
       "1     KrallS.C,RottschyC,OberwellandE,BzdokD,FoxP.T,...   \n",
       "2     KrallS.C,RottschyC,OberwellandE,BzdokD,FoxP.T,...   \n",
       "3     KrallS.C,RottschyC,OberwellandE,BzdokD,FoxP.T,...   \n",
       "4     KrallS.C,RottschyC,OberwellandE,BzdokD,FoxP.T,...   \n",
       "...                                                 ...   \n",
       "2982                                   TroostJ,Tsuchiya   \n",
       "2983                              BekensteinJ.D,Meisels   \n",
       "2984                              BekensteinJ.D,Meisels   \n",
       "2985                            LemosJ.P.S,ZaslavskiiO.   \n",
       "2986                            LemosJ.P.S,ZaslavskiiO.   \n",
       "\n",
       "                                            Descripcion   Año          Autor  \n",
       "0     The role of the right temporoparietal junction...  2014       KrallS.C  \n",
       "1     The role of the right temporoparietal junction...  2014      RottschyC  \n",
       "2     The role of the right temporoparietal junction...  2014   OberwellandE  \n",
       "3     The role of the right temporoparietal junction...  2014         BzdokD  \n",
       "4     The role of the right temporoparietal junction...  2014         FoxP.T  \n",
       "...                                                 ...   ...            ...  \n",
       "2982  Three-dimensional black hole entropy. Journal ...  2003       Tsuchiya  \n",
       "2983  EinsteinAandBcoefficients for a black hole. Ph...  1977  BekensteinJ.D  \n",
       "2984  EinsteinAandBcoefficients for a black hole. Ph...  1977        Meisels  \n",
       "2985  Entropy of quasiblack holes. Physical Review D...  2010     LemosJ.P.S  \n",
       "2986  Entropy of quasiblack holes. Physical Review D...  2010   ZaslavskiiO.  \n",
       "\n",
       "[2987 rows x 8 columns]"
      ]
     },
     "execution_count": 292,
     "metadata": {},
     "output_type": "execute_result"
    }
   ],
   "source": [
    "Total_Relation"
   ]
  },
  {
   "cell_type": "code",
   "execution_count": 276,
   "metadata": {},
   "outputs": [
    {
     "data": {
      "text/plain": [
       "(126, 165, 96, 267)"
      ]
     },
     "execution_count": 276,
     "metadata": {},
     "output_type": "execute_result"
    }
   ],
   "source": [
    "Articulos.Titulos.str.len().max(),Articulos.HUBsci.str.len().max(),Articulos.Autores.str.len().max(),Articulos.Descripcion.str.len().max()"
   ]
  },
  {
   "attachments": {},
   "cell_type": "markdown",
   "metadata": {},
   "source": [
    "Creacion de base de datos"
   ]
  },
  {
   "cell_type": "code",
   "execution_count": 92,
   "metadata": {},
   "outputs": [],
   "source": [
    "import mysql.connector as conn"
   ]
  },
  {
   "cell_type": "code",
   "execution_count": 93,
   "metadata": {},
   "outputs": [],
   "source": [
    "conexion = conn.connect(host='127.0.0.1',                      #nombre del server\n",
    "                        user='root',                           #nombre del usuario\n",
    "                        passwd='Sebitas18Da')                  #contraseña del server\n",
    "cursor = conexion.cursor()\n"
   ]
  },
  {
   "cell_type": "code",
   "execution_count": 94,
   "metadata": {},
   "outputs": [],
   "source": [
    "cursor.execute('drop database if exists Articulos_Cientificos;')\n",
    "cursor.execute('create database Articulos_Cientificos;')"
   ]
  },
  {
   "cell_type": "code",
   "execution_count": 95,
   "metadata": {},
   "outputs": [],
   "source": [
    "db=conn.connect(host='127.0.0.1',\n",
    "                user='root',\n",
    "                passwd='Sebitas18Da',\n",
    "                database='Articulos_Cientificos')\n",
    "cursor=db.cursor()"
   ]
  },
  {
   "cell_type": "code",
   "execution_count": 96,
   "metadata": {},
   "outputs": [],
   "source": [
    "def insertor(df,table):\n",
    "    nombre_table2=table\n",
    "    nombre_columns2=','.join(df.columns)\n",
    "    for e in range(len(df)):\n",
    "        valores=tuple(df.iloc[e].values)\n",
    "        insert_query = f'insert into {nombre_table2} ({nombre_columns2}) values {valores}'\n",
    "        cursor.execute(insert_query)"
   ]
  },
  {
   "cell_type": "code",
   "execution_count": 99,
   "metadata": {},
   "outputs": [],
   "source": [
    "cursor.execute('drop table if exists Arti;')\n",
    "query='''\n",
    "create table Arti (\n",
    "ID int primary key not null,\n",
    "Titulos  varchar(174), \n",
    "HUBsci varchar(165),\n",
    "Categoria varchar(40),\n",
    "Autores varchar(120),\n",
    "Descripcion varchar(267),\n",
    "Año int)'''\n",
    "cursor.execute(query)\n",
    "insertor(Articulos,'Arti')"
   ]
  },
  {
   "cell_type": "code",
   "execution_count": 101,
   "metadata": {},
   "outputs": [],
   "source": [
    "cursor.execute('drop table if exists A;')\n",
    "query='''\n",
    "create table A (\n",
    "ID int primary key not null)'''\n",
    "cursor.execute(query)"
   ]
  },
  {
   "cell_type": "code",
   "execution_count": 100,
   "metadata": {},
   "outputs": [
    {
     "name": "stdout",
     "output_type": "stream",
     "text": [
      "(0, 'The role of the right temporoparietal junction in attention and social interaction as revealed by ALE meta-analysis', 'https://sci-hub.se/https://link.springer.com/article/10.1007/s00429-014-0803-z', 'NeuroCiencia', 'Krall,S.C.,Rottschy,C.,Oberwelland,E.,Bzdok,D.,Fox,P.T.,Eickhoff,S.B.,…Konrad,', 'The role of the right temporoparietal junction in attention and social interaction as revealed by ALE meta-analysis. Brain Structure and Function, 220(2), 587–604.', 2014)\n",
      "(1, 'The role of the right temporoparietal junction in social interaction: how low-level computational processes contribute to meta-cognition', 'https://sci-hub.se/https://journals.sagepub.com/doi/pdf/10.1177/1073858407304654', 'NeuroCiencia', 'Decety,J.,&Lamm,', 'The Role of the Right Temporoparietal Junction in Social Interaction: How Low-Level Computational Processes Contribute to Meta-Cognition. The Neuroscientist, 13(6), 580–593.', 2007)\n"
     ]
    }
   ],
   "source": [
    "cursor.execute('select * from Arti limit 2;')\n",
    "\n",
    "for x in cursor:\n",
    "    print(x)"
   ]
  },
  {
   "attachments": {},
   "cell_type": "markdown",
   "metadata": {},
   "source": []
  },
  {
   "cell_type": "code",
   "execution_count": null,
   "metadata": {},
   "outputs": [],
   "source": []
  }
 ],
 "metadata": {
  "kernelspec": {
   "display_name": "Python 3",
   "language": "python",
   "name": "python3"
  },
  "language_info": {
   "codemirror_mode": {
    "name": "ipython",
    "version": 3
   },
   "file_extension": ".py",
   "mimetype": "text/x-python",
   "name": "python",
   "nbconvert_exporter": "python",
   "pygments_lexer": "ipython3",
   "version": "3.9.2rc1"
  },
  "orig_nbformat": 4
 },
 "nbformat": 4,
 "nbformat_minor": 2
}
