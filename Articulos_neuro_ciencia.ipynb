{
 "cells": [
  {
   "attachments": {},
   "cell_type": "markdown",
   "metadata": {},
   "source": []
  },
  {
   "cell_type": "code",
   "execution_count": 1,
   "metadata": {},
   "outputs": [],
   "source": [
    "import jsl\n",
    "import pandas as pd\n",
    "import PyPDF2\n",
    "import urllib.request\n",
    "import re"
   ]
  },
  {
   "cell_type": "code",
   "execution_count": null,
   "metadata": {},
   "outputs": [],
   "source": [
    "#Right Temporoparietal Junction"
   ]
  },
  {
   "cell_type": "code",
   "execution_count": 2,
   "metadata": {},
   "outputs": [],
   "source": [
    "busqueda=jsl.google_academy()\n",
    "busqueda.buscar()"
   ]
  },
  {
   "cell_type": "code",
   "execution_count": 3,
   "metadata": {},
   "outputs": [],
   "source": [
    "diccionario=busqueda.diccionario()"
   ]
  },
  {
   "cell_type": "code",
   "execution_count": 4,
   "metadata": {},
   "outputs": [
    {
     "data": {
      "text/plain": [
       "992"
      ]
     },
     "execution_count": 4,
     "metadata": {},
     "output_type": "execute_result"
    }
   ],
   "source": [
    "len(diccionario)"
   ]
  },
  {
   "cell_type": "code",
   "execution_count": 5,
   "metadata": {},
   "outputs": [
    {
     "data": {
      "text/plain": [
       "64"
      ]
     },
     "execution_count": 5,
     "metadata": {},
     "output_type": "execute_result"
    }
   ],
   "source": [
    "len([e for e in list(diccionario.keys()) if 'right temporoparietal junction' in e])"
   ]
  },
  {
   "cell_type": "code",
   "execution_count": 6,
   "metadata": {},
   "outputs": [],
   "source": [
    "Articulos_neurociencia=pd.DataFrame( { 'titulos' : list(diccionario.keys()),'urls' : list(diccionario.values()), 'hubsci' : ['https://sci-hub.se/'+e for e in list(diccionario.values())]})\n",
    "Articulos_neurociencia['categoria']='NeuroCiencia'"
   ]
  },
  {
   "cell_type": "code",
   "execution_count": 58,
   "metadata": {},
   "outputs": [
    {
     "data": {
      "text/html": [
       "<div>\n",
       "<style scoped>\n",
       "    .dataframe tbody tr th:only-of-type {\n",
       "        vertical-align: middle;\n",
       "    }\n",
       "\n",
       "    .dataframe tbody tr th {\n",
       "        vertical-align: top;\n",
       "    }\n",
       "\n",
       "    .dataframe thead th {\n",
       "        text-align: right;\n",
       "    }\n",
       "</style>\n",
       "<table border=\"1\" class=\"dataframe\">\n",
       "  <thead>\n",
       "    <tr style=\"text-align: right;\">\n",
       "      <th></th>\n",
       "      <th>titulos</th>\n",
       "      <th>urls</th>\n",
       "      <th>hubsci</th>\n",
       "      <th>categoria</th>\n",
       "    </tr>\n",
       "  </thead>\n",
       "  <tbody>\n",
       "    <tr>\n",
       "      <th>0</th>\n",
       "      <td>The role of the right temporoparietal junction...</td>\n",
       "      <td>https://link.springer.com/article/10.1007/s004...</td>\n",
       "      <td>https://sci-hub.se/https://link.springer.com/a...</td>\n",
       "      <td>NeuroCiencia</td>\n",
       "    </tr>\n",
       "    <tr>\n",
       "      <th>1</th>\n",
       "      <td>The role of the right temporoparietal junction...</td>\n",
       "      <td>https://journals.sagepub.com/doi/pdf/10.1177/1...</td>\n",
       "      <td>https://sci-hub.se/https://journals.sagepub.co...</td>\n",
       "      <td>NeuroCiencia</td>\n",
       "    </tr>\n",
       "    <tr>\n",
       "      <th>2</th>\n",
       "      <td>[HTML] Enhancing social ability by stimulating...</td>\n",
       "      <td>https://www.sciencedirect.com/science/article/...</td>\n",
       "      <td>https://sci-hub.se/https://www.sciencedirect.c...</td>\n",
       "      <td>NeuroCiencia</td>\n",
       "    </tr>\n",
       "    <tr>\n",
       "      <th>3</th>\n",
       "      <td>The role of the right temporoparietal junction...</td>\n",
       "      <td>https://academic.oup.com/cercor/article-abstra...</td>\n",
       "      <td>https://sci-hub.se/https://academic.oup.com/ce...</td>\n",
       "      <td>NeuroCiencia</td>\n",
       "    </tr>\n",
       "    <tr>\n",
       "      <th>4</th>\n",
       "      <td>Making sense of another mind: the role of the ...</td>\n",
       "      <td>https://www.sciencedirect.com/science/article/...</td>\n",
       "      <td>https://sci-hub.se/https://www.sciencedirect.c...</td>\n",
       "      <td>NeuroCiencia</td>\n",
       "    </tr>\n",
       "    <tr>\n",
       "      <th>...</th>\n",
       "      <td>...</td>\n",
       "      <td>...</td>\n",
       "      <td>...</td>\n",
       "      <td>...</td>\n",
       "    </tr>\n",
       "    <tr>\n",
       "      <th>987</th>\n",
       "      <td>Mentaliseren en hersenactivatie bij autisme</td>\n",
       "      <td>https://biblio.ugent.be/publication/8734773</td>\n",
       "      <td>https://sci-hub.se/https://biblio.ugent.be/pub...</td>\n",
       "      <td>NeuroCiencia</td>\n",
       "    </tr>\n",
       "    <tr>\n",
       "      <th>988</th>\n",
       "      <td>نقش ناحیه‌ اتصال آهیانه‌ای-گیجگاهی روی ذهنی‌سا...</td>\n",
       "      <td>https://jcp.khu.ac.ir/article-1-3483-fa.html</td>\n",
       "      <td>https://sci-hub.se/https://jcp.khu.ac.ir/artic...</td>\n",
       "      <td>NeuroCiencia</td>\n",
       "    </tr>\n",
       "    <tr>\n",
       "      <th>989</th>\n",
       "      <td>[HTML] The effects of stimulating the cerebell...</td>\n",
       "      <td>https://www.sciencedirect.com/science/article/...</td>\n",
       "      <td>https://sci-hub.se/https://www.sciencedirect.c...</td>\n",
       "      <td>NeuroCiencia</td>\n",
       "    </tr>\n",
       "    <tr>\n",
       "      <th>990</th>\n",
       "      <td>[HTML] 右侧颞顶联合区及道德加工脑网络的功能连接预测社会性框架效应: 来自静息态功能磁...</td>\n",
       "      <td>https://journal.psych.ac.cn/xlxb/CN/10.3724/SP...</td>\n",
       "      <td>https://sci-hub.se/https://journal.psych.ac.cn...</td>\n",
       "      <td>NeuroCiencia</td>\n",
       "    </tr>\n",
       "    <tr>\n",
       "      <th>991</th>\n",
       "      <td>Efectos de la electroestimulación funcional en...</td>\n",
       "      <td>https://pesquisa.bvsalud.org/portal/resource/p...</td>\n",
       "      <td>https://sci-hub.se/https://pesquisa.bvsalud.or...</td>\n",
       "      <td>NeuroCiencia</td>\n",
       "    </tr>\n",
       "  </tbody>\n",
       "</table>\n",
       "<p>992 rows × 4 columns</p>\n",
       "</div>"
      ],
      "text/plain": [
       "                                               titulos  \\\n",
       "0    The role of the right temporoparietal junction...   \n",
       "1    The role of the right temporoparietal junction...   \n",
       "2    [HTML] Enhancing social ability by stimulating...   \n",
       "3    The role of the right temporoparietal junction...   \n",
       "4    Making sense of another mind: the role of the ...   \n",
       "..                                                 ...   \n",
       "987        Mentaliseren en hersenactivatie bij autisme   \n",
       "988  نقش ناحیه‌ اتصال آهیانه‌ای-گیجگاهی روی ذهنی‌سا...   \n",
       "989  [HTML] The effects of stimulating the cerebell...   \n",
       "990  [HTML] 右侧颞顶联合区及道德加工脑网络的功能连接预测社会性框架效应: 来自静息态功能磁...   \n",
       "991  Efectos de la electroestimulación funcional en...   \n",
       "\n",
       "                                                  urls  \\\n",
       "0    https://link.springer.com/article/10.1007/s004...   \n",
       "1    https://journals.sagepub.com/doi/pdf/10.1177/1...   \n",
       "2    https://www.sciencedirect.com/science/article/...   \n",
       "3    https://academic.oup.com/cercor/article-abstra...   \n",
       "4    https://www.sciencedirect.com/science/article/...   \n",
       "..                                                 ...   \n",
       "987        https://biblio.ugent.be/publication/8734773   \n",
       "988       https://jcp.khu.ac.ir/article-1-3483-fa.html   \n",
       "989  https://www.sciencedirect.com/science/article/...   \n",
       "990  https://journal.psych.ac.cn/xlxb/CN/10.3724/SP...   \n",
       "991  https://pesquisa.bvsalud.org/portal/resource/p...   \n",
       "\n",
       "                                                hubsci     categoria  \n",
       "0    https://sci-hub.se/https://link.springer.com/a...  NeuroCiencia  \n",
       "1    https://sci-hub.se/https://journals.sagepub.co...  NeuroCiencia  \n",
       "2    https://sci-hub.se/https://www.sciencedirect.c...  NeuroCiencia  \n",
       "3    https://sci-hub.se/https://academic.oup.com/ce...  NeuroCiencia  \n",
       "4    https://sci-hub.se/https://www.sciencedirect.c...  NeuroCiencia  \n",
       "..                                                 ...           ...  \n",
       "987  https://sci-hub.se/https://biblio.ugent.be/pub...  NeuroCiencia  \n",
       "988  https://sci-hub.se/https://jcp.khu.ac.ir/artic...  NeuroCiencia  \n",
       "989  https://sci-hub.se/https://www.sciencedirect.c...  NeuroCiencia  \n",
       "990  https://sci-hub.se/https://journal.psych.ac.cn...  NeuroCiencia  \n",
       "991  https://sci-hub.se/https://pesquisa.bvsalud.or...  NeuroCiencia  \n",
       "\n",
       "[992 rows x 4 columns]"
      ]
     },
     "execution_count": 58,
     "metadata": {},
     "output_type": "execute_result"
    }
   ],
   "source": [
    "Articulos_neurociencia"
   ]
  },
  {
   "cell_type": "code",
   "execution_count": 7,
   "metadata": {},
   "outputs": [
    {
     "data": {
      "text/html": [
       "<div>\n",
       "<style scoped>\n",
       "    .dataframe tbody tr th:only-of-type {\n",
       "        vertical-align: middle;\n",
       "    }\n",
       "\n",
       "    .dataframe tbody tr th {\n",
       "        vertical-align: top;\n",
       "    }\n",
       "\n",
       "    .dataframe thead th {\n",
       "        text-align: right;\n",
       "    }\n",
       "</style>\n",
       "<table border=\"1\" class=\"dataframe\">\n",
       "  <thead>\n",
       "    <tr style=\"text-align: right;\">\n",
       "      <th></th>\n",
       "      <th>titulos</th>\n",
       "      <th>urls</th>\n",
       "      <th>hubsci</th>\n",
       "      <th>categoria</th>\n",
       "    </tr>\n",
       "  </thead>\n",
       "  <tbody>\n",
       "    <tr>\n",
       "      <th>0</th>\n",
       "      <td>The role of the right temporoparietal junction...</td>\n",
       "      <td>https://link.springer.com/article/10.1007/s004...</td>\n",
       "      <td>https://sci-hub.se/https://link.springer.com/a...</td>\n",
       "      <td>NeuroCiencia</td>\n",
       "    </tr>\n",
       "    <tr>\n",
       "      <th>1</th>\n",
       "      <td>The role of the right temporoparietal junction...</td>\n",
       "      <td>https://journals.sagepub.com/doi/pdf/10.1177/1...</td>\n",
       "      <td>https://sci-hub.se/https://journals.sagepub.co...</td>\n",
       "      <td>NeuroCiencia</td>\n",
       "    </tr>\n",
       "    <tr>\n",
       "      <th>2</th>\n",
       "      <td>[HTML] Enhancing social ability by stimulating...</td>\n",
       "      <td>https://www.sciencedirect.com/science/article/...</td>\n",
       "      <td>https://sci-hub.se/https://www.sciencedirect.c...</td>\n",
       "      <td>NeuroCiencia</td>\n",
       "    </tr>\n",
       "    <tr>\n",
       "      <th>3</th>\n",
       "      <td>The role of the right temporoparietal junction...</td>\n",
       "      <td>https://academic.oup.com/cercor/article-abstra...</td>\n",
       "      <td>https://sci-hub.se/https://academic.oup.com/ce...</td>\n",
       "      <td>NeuroCiencia</td>\n",
       "    </tr>\n",
       "    <tr>\n",
       "      <th>5</th>\n",
       "      <td>Attention, awareness, and the right temporopar...</td>\n",
       "      <td>https://www.pnas.org/doi/abs/10.1073/pnas.2026...</td>\n",
       "      <td>https://sci-hub.se/https://www.pnas.org/doi/ab...</td>\n",
       "      <td>NeuroCiencia</td>\n",
       "    </tr>\n",
       "    <tr>\n",
       "      <th>...</th>\n",
       "      <td>...</td>\n",
       "      <td>...</td>\n",
       "      <td>...</td>\n",
       "      <td>...</td>\n",
       "    </tr>\n",
       "    <tr>\n",
       "      <th>255</th>\n",
       "      <td>Anodal transcranial direct current stimulation...</td>\n",
       "      <td>https://link.springer.com/article/10.1007/s401...</td>\n",
       "      <td>https://sci-hub.se/https://link.springer.com/a...</td>\n",
       "      <td>NeuroCiencia</td>\n",
       "    </tr>\n",
       "    <tr>\n",
       "      <th>258</th>\n",
       "      <td>Disruption of the right temporoparietal juncti...</td>\n",
       "      <td>https://ul.qucosa.de/id/qucosa:14741</td>\n",
       "      <td>https://sci-hub.se/https://ul.qucosa.de/id/quc...</td>\n",
       "      <td>NeuroCiencia</td>\n",
       "    </tr>\n",
       "    <tr>\n",
       "      <th>264</th>\n",
       "      <td>Resting-state functional connectivity of the r...</td>\n",
       "      <td>https://juser.fz-juelich.de/record/866578</td>\n",
       "      <td>https://sci-hub.se/https://juser.fz-juelich.de...</td>\n",
       "      <td>NeuroCiencia</td>\n",
       "    </tr>\n",
       "    <tr>\n",
       "      <th>267</th>\n",
       "      <td>\" Stimulating the right temporoparietal juncti...</td>\n",
       "      <td>https://psycnet.apa.org/record/2018-07078-001</td>\n",
       "      <td>https://sci-hub.se/https://psycnet.apa.org/rec...</td>\n",
       "      <td>NeuroCiencia</td>\n",
       "    </tr>\n",
       "    <tr>\n",
       "      <th>269</th>\n",
       "      <td>Protocol for\" Enhancing activation in the righ...</td>\n",
       "      <td>https://www.protocols.io/view/protocol-for-quo...</td>\n",
       "      <td>https://sci-hub.se/https://www.protocols.io/vi...</td>\n",
       "      <td>NeuroCiencia</td>\n",
       "    </tr>\n",
       "  </tbody>\n",
       "</table>\n",
       "<p>64 rows × 4 columns</p>\n",
       "</div>"
      ],
      "text/plain": [
       "                                               titulos  \\\n",
       "0    The role of the right temporoparietal junction...   \n",
       "1    The role of the right temporoparietal junction...   \n",
       "2    [HTML] Enhancing social ability by stimulating...   \n",
       "3    The role of the right temporoparietal junction...   \n",
       "5    Attention, awareness, and the right temporopar...   \n",
       "..                                                 ...   \n",
       "255  Anodal transcranial direct current stimulation...   \n",
       "258  Disruption of the right temporoparietal juncti...   \n",
       "264  Resting-state functional connectivity of the r...   \n",
       "267  \" Stimulating the right temporoparietal juncti...   \n",
       "269  Protocol for\" Enhancing activation in the righ...   \n",
       "\n",
       "                                                  urls  \\\n",
       "0    https://link.springer.com/article/10.1007/s004...   \n",
       "1    https://journals.sagepub.com/doi/pdf/10.1177/1...   \n",
       "2    https://www.sciencedirect.com/science/article/...   \n",
       "3    https://academic.oup.com/cercor/article-abstra...   \n",
       "5    https://www.pnas.org/doi/abs/10.1073/pnas.2026...   \n",
       "..                                                 ...   \n",
       "255  https://link.springer.com/article/10.1007/s401...   \n",
       "258               https://ul.qucosa.de/id/qucosa:14741   \n",
       "264          https://juser.fz-juelich.de/record/866578   \n",
       "267      https://psycnet.apa.org/record/2018-07078-001   \n",
       "269  https://www.protocols.io/view/protocol-for-quo...   \n",
       "\n",
       "                                                hubsci     categoria  \n",
       "0    https://sci-hub.se/https://link.springer.com/a...  NeuroCiencia  \n",
       "1    https://sci-hub.se/https://journals.sagepub.co...  NeuroCiencia  \n",
       "2    https://sci-hub.se/https://www.sciencedirect.c...  NeuroCiencia  \n",
       "3    https://sci-hub.se/https://academic.oup.com/ce...  NeuroCiencia  \n",
       "5    https://sci-hub.se/https://www.pnas.org/doi/ab...  NeuroCiencia  \n",
       "..                                                 ...           ...  \n",
       "255  https://sci-hub.se/https://link.springer.com/a...  NeuroCiencia  \n",
       "258  https://sci-hub.se/https://ul.qucosa.de/id/quc...  NeuroCiencia  \n",
       "264  https://sci-hub.se/https://juser.fz-juelich.de...  NeuroCiencia  \n",
       "267  https://sci-hub.se/https://psycnet.apa.org/rec...  NeuroCiencia  \n",
       "269  https://sci-hub.se/https://www.protocols.io/vi...  NeuroCiencia  \n",
       "\n",
       "[64 rows x 4 columns]"
      ]
     },
     "execution_count": 7,
     "metadata": {},
     "output_type": "execute_result"
    }
   ],
   "source": [
    "Articulos_neurociencia[Articulos_neurociencia['titulos'].str.contains('right temporoparietal junction')==True]"
   ]
  },
  {
   "cell_type": "code",
   "execution_count": 8,
   "metadata": {},
   "outputs": [],
   "source": [
    "links=Articulos_neurociencia['hubsci']"
   ]
  },
  {
   "cell_type": "code",
   "execution_count": 9,
   "metadata": {},
   "outputs": [],
   "source": [
    "import jsl"
   ]
  },
  {
   "cell_type": "code",
   "execution_count": 10,
   "metadata": {},
   "outputs": [],
   "source": [
    "bus=jsl.google_academy()\n",
    "info=bus.info(list(links))"
   ]
  },
  {
   "cell_type": "code",
   "execution_count": 12,
   "metadata": {},
   "outputs": [],
   "source": [
    "extra=pd.DataFrame(info)"
   ]
  },
  {
   "cell_type": "code",
   "execution_count": 37,
   "metadata": {},
   "outputs": [],
   "source": [
    "Arti=pd.concat([Articulos_neurociencia, extra],axis=1)\n",
    "Arti.titulos=Arti.titulos.str.capitalize()"
   ]
  },
  {
   "cell_type": "code",
   "execution_count": 43,
   "metadata": {},
   "outputs": [],
   "source": [
    "Arti.loc[Arti['año'] == 'NaN', 'año'] = '0000'"
   ]
  },
  {
   "cell_type": "code",
   "execution_count": 60,
   "metadata": {},
   "outputs": [],
   "source": [
    "Arti.año=Arti.año.str.replace('(', '').str.replace(')', '').astype(int)\n",
    "Arti.rename(columns={'aurotes': 'autores'}, inplace=True)"
   ]
  },
  {
   "cell_type": "code",
   "execution_count": 72,
   "metadata": {},
   "outputs": [],
   "source": [
    "Articulos=Arti.reset_index(False)"
   ]
  },
  {
   "cell_type": "code",
   "execution_count": 75,
   "metadata": {},
   "outputs": [],
   "source": [
    "Articulos.rename(columns={'index': 'ID_arti'}, inplace=True)"
   ]
  },
  {
   "cell_type": "code",
   "execution_count": 76,
   "metadata": {},
   "outputs": [
    {
     "data": {
      "text/html": [
       "<div>\n",
       "<style scoped>\n",
       "    .dataframe tbody tr th:only-of-type {\n",
       "        vertical-align: middle;\n",
       "    }\n",
       "\n",
       "    .dataframe tbody tr th {\n",
       "        vertical-align: top;\n",
       "    }\n",
       "\n",
       "    .dataframe thead th {\n",
       "        text-align: right;\n",
       "    }\n",
       "</style>\n",
       "<table border=\"1\" class=\"dataframe\">\n",
       "  <thead>\n",
       "    <tr style=\"text-align: right;\">\n",
       "      <th></th>\n",
       "      <th>ID_arti</th>\n",
       "      <th>titulos</th>\n",
       "      <th>urls</th>\n",
       "      <th>hubsci</th>\n",
       "      <th>categoria</th>\n",
       "      <th>autores</th>\n",
       "      <th>descripcion</th>\n",
       "      <th>año</th>\n",
       "    </tr>\n",
       "  </thead>\n",
       "  <tbody>\n",
       "    <tr>\n",
       "      <th>0</th>\n",
       "      <td>0</td>\n",
       "      <td>The role of the right temporoparietal junction...</td>\n",
       "      <td>https://link.springer.com/article/10.1007/s004...</td>\n",
       "      <td>https://sci-hub.se/https://link.springer.com/a...</td>\n",
       "      <td>NeuroCiencia</td>\n",
       "      <td>Krall,S.C.,Rottschy,C.,Oberwelland,E.,Bzdok,D....</td>\n",
       "      <td>The role of the right temporoparietal junction...</td>\n",
       "      <td>2014</td>\n",
       "    </tr>\n",
       "    <tr>\n",
       "      <th>1</th>\n",
       "      <td>1</td>\n",
       "      <td>The role of the right temporoparietal junction...</td>\n",
       "      <td>https://journals.sagepub.com/doi/pdf/10.1177/1...</td>\n",
       "      <td>https://sci-hub.se/https://journals.sagepub.co...</td>\n",
       "      <td>NeuroCiencia</td>\n",
       "      <td>Decety,J.,&amp;Lamm,</td>\n",
       "      <td>The Role of the Right Temporoparietal Junction...</td>\n",
       "      <td>2007</td>\n",
       "    </tr>\n",
       "    <tr>\n",
       "      <th>2</th>\n",
       "      <td>2</td>\n",
       "      <td>[html] enhancing social ability by stimulating...</td>\n",
       "      <td>https://www.sciencedirect.com/science/article/...</td>\n",
       "      <td>https://sci-hub.se/https://www.sciencedirect.c...</td>\n",
       "      <td>NeuroCiencia</td>\n",
       "      <td>Santiesteban,I.,Banissy,M.J.,Catmur,C.,&amp;Bird,</td>\n",
       "      <td>Enhancing Social Ability by Stimulating Right ...</td>\n",
       "      <td>2012</td>\n",
       "    </tr>\n",
       "    <tr>\n",
       "      <th>3</th>\n",
       "      <td>3</td>\n",
       "      <td>The role of the right temporoparietal junction...</td>\n",
       "      <td>https://academic.oup.com/cercor/article-abstra...</td>\n",
       "      <td>https://sci-hub.se/https://academic.oup.com/ce...</td>\n",
       "      <td>NeuroCiencia</td>\n",
       "      <td>NaN</td>\n",
       "      <td>NaN</td>\n",
       "      <td>0</td>\n",
       "    </tr>\n",
       "    <tr>\n",
       "      <th>4</th>\n",
       "      <td>4</td>\n",
       "      <td>Making sense of another mind: the role of the ...</td>\n",
       "      <td>https://www.sciencedirect.com/science/article/...</td>\n",
       "      <td>https://sci-hub.se/https://www.sciencedirect.c...</td>\n",
       "      <td>NeuroCiencia</td>\n",
       "      <td>SAXE,R.,&amp;WEXLER,</td>\n",
       "      <td>Making sense of another mind: The role of the ...</td>\n",
       "      <td>2005</td>\n",
       "    </tr>\n",
       "    <tr>\n",
       "      <th>...</th>\n",
       "      <td>...</td>\n",
       "      <td>...</td>\n",
       "      <td>...</td>\n",
       "      <td>...</td>\n",
       "      <td>...</td>\n",
       "      <td>...</td>\n",
       "      <td>...</td>\n",
       "      <td>...</td>\n",
       "    </tr>\n",
       "    <tr>\n",
       "      <th>987</th>\n",
       "      <td>987</td>\n",
       "      <td>Mentaliseren en hersenactivatie bij autisme</td>\n",
       "      <td>https://biblio.ugent.be/publication/8734773</td>\n",
       "      <td>https://sci-hub.se/https://biblio.ugent.be/pub...</td>\n",
       "      <td>NeuroCiencia</td>\n",
       "      <td>NaN</td>\n",
       "      <td>NaN</td>\n",
       "      <td>0</td>\n",
       "    </tr>\n",
       "    <tr>\n",
       "      <th>988</th>\n",
       "      <td>988</td>\n",
       "      <td>نقش ناحیه‌ اتصال آهیانه‌ای-گیجگاهی روی ذهنی‌سا...</td>\n",
       "      <td>https://jcp.khu.ac.ir/article-1-3483-fa.html</td>\n",
       "      <td>https://sci-hub.se/https://jcp.khu.ac.ir/artic...</td>\n",
       "      <td>NeuroCiencia</td>\n",
       "      <td>NaN</td>\n",
       "      <td>NaN</td>\n",
       "      <td>0</td>\n",
       "    </tr>\n",
       "    <tr>\n",
       "      <th>989</th>\n",
       "      <td>989</td>\n",
       "      <td>[html] the effects of stimulating the cerebell...</td>\n",
       "      <td>https://www.sciencedirect.com/science/article/...</td>\n",
       "      <td>https://sci-hub.se/https://www.sciencedirect.c...</td>\n",
       "      <td>NeuroCiencia</td>\n",
       "      <td>NaN</td>\n",
       "      <td>NaN</td>\n",
       "      <td>0</td>\n",
       "    </tr>\n",
       "    <tr>\n",
       "      <th>990</th>\n",
       "      <td>990</td>\n",
       "      <td>[html] 右侧颞顶联合区及道德加工脑网络的功能连接预测社会性框架效应: 来自静息态功能磁...</td>\n",
       "      <td>https://journal.psych.ac.cn/xlxb/CN/10.3724/SP...</td>\n",
       "      <td>https://sci-hub.se/https://journal.psych.ac.cn...</td>\n",
       "      <td>NeuroCiencia</td>\n",
       "      <td>NaN</td>\n",
       "      <td>NaN</td>\n",
       "      <td>0</td>\n",
       "    </tr>\n",
       "    <tr>\n",
       "      <th>991</th>\n",
       "      <td>991</td>\n",
       "      <td>Efectos de la electroestimulación funcional en...</td>\n",
       "      <td>https://pesquisa.bvsalud.org/portal/resource/p...</td>\n",
       "      <td>https://sci-hub.se/https://pesquisa.bvsalud.or...</td>\n",
       "      <td>NeuroCiencia</td>\n",
       "      <td>NaN</td>\n",
       "      <td>NaN</td>\n",
       "      <td>0</td>\n",
       "    </tr>\n",
       "  </tbody>\n",
       "</table>\n",
       "<p>992 rows × 8 columns</p>\n",
       "</div>"
      ],
      "text/plain": [
       "     ID_arti                                            titulos  \\\n",
       "0          0  The role of the right temporoparietal junction...   \n",
       "1          1  The role of the right temporoparietal junction...   \n",
       "2          2  [html] enhancing social ability by stimulating...   \n",
       "3          3  The role of the right temporoparietal junction...   \n",
       "4          4  Making sense of another mind: the role of the ...   \n",
       "..       ...                                                ...   \n",
       "987      987        Mentaliseren en hersenactivatie bij autisme   \n",
       "988      988  نقش ناحیه‌ اتصال آهیانه‌ای-گیجگاهی روی ذهنی‌سا...   \n",
       "989      989  [html] the effects of stimulating the cerebell...   \n",
       "990      990  [html] 右侧颞顶联合区及道德加工脑网络的功能连接预测社会性框架效应: 来自静息态功能磁...   \n",
       "991      991  Efectos de la electroestimulación funcional en...   \n",
       "\n",
       "                                                  urls  \\\n",
       "0    https://link.springer.com/article/10.1007/s004...   \n",
       "1    https://journals.sagepub.com/doi/pdf/10.1177/1...   \n",
       "2    https://www.sciencedirect.com/science/article/...   \n",
       "3    https://academic.oup.com/cercor/article-abstra...   \n",
       "4    https://www.sciencedirect.com/science/article/...   \n",
       "..                                                 ...   \n",
       "987        https://biblio.ugent.be/publication/8734773   \n",
       "988       https://jcp.khu.ac.ir/article-1-3483-fa.html   \n",
       "989  https://www.sciencedirect.com/science/article/...   \n",
       "990  https://journal.psych.ac.cn/xlxb/CN/10.3724/SP...   \n",
       "991  https://pesquisa.bvsalud.org/portal/resource/p...   \n",
       "\n",
       "                                                hubsci     categoria  \\\n",
       "0    https://sci-hub.se/https://link.springer.com/a...  NeuroCiencia   \n",
       "1    https://sci-hub.se/https://journals.sagepub.co...  NeuroCiencia   \n",
       "2    https://sci-hub.se/https://www.sciencedirect.c...  NeuroCiencia   \n",
       "3    https://sci-hub.se/https://academic.oup.com/ce...  NeuroCiencia   \n",
       "4    https://sci-hub.se/https://www.sciencedirect.c...  NeuroCiencia   \n",
       "..                                                 ...           ...   \n",
       "987  https://sci-hub.se/https://biblio.ugent.be/pub...  NeuroCiencia   \n",
       "988  https://sci-hub.se/https://jcp.khu.ac.ir/artic...  NeuroCiencia   \n",
       "989  https://sci-hub.se/https://www.sciencedirect.c...  NeuroCiencia   \n",
       "990  https://sci-hub.se/https://journal.psych.ac.cn...  NeuroCiencia   \n",
       "991  https://sci-hub.se/https://pesquisa.bvsalud.or...  NeuroCiencia   \n",
       "\n",
       "                                               autores  \\\n",
       "0    Krall,S.C.,Rottschy,C.,Oberwelland,E.,Bzdok,D....   \n",
       "1                                     Decety,J.,&Lamm,   \n",
       "2        Santiesteban,I.,Banissy,M.J.,Catmur,C.,&Bird,   \n",
       "3                                                  NaN   \n",
       "4                                     SAXE,R.,&WEXLER,   \n",
       "..                                                 ...   \n",
       "987                                                NaN   \n",
       "988                                                NaN   \n",
       "989                                                NaN   \n",
       "990                                                NaN   \n",
       "991                                                NaN   \n",
       "\n",
       "                                           descripcion   año  \n",
       "0    The role of the right temporoparietal junction...  2014  \n",
       "1    The Role of the Right Temporoparietal Junction...  2007  \n",
       "2    Enhancing Social Ability by Stimulating Right ...  2012  \n",
       "3                                                  NaN     0  \n",
       "4    Making sense of another mind: The role of the ...  2005  \n",
       "..                                                 ...   ...  \n",
       "987                                                NaN     0  \n",
       "988                                                NaN     0  \n",
       "989                                                NaN     0  \n",
       "990                                                NaN     0  \n",
       "991                                                NaN     0  \n",
       "\n",
       "[992 rows x 8 columns]"
      ]
     },
     "execution_count": 76,
     "metadata": {},
     "output_type": "execute_result"
    }
   ],
   "source": [
    "Articulos"
   ]
  },
  {
   "cell_type": "code",
   "execution_count": 61,
   "metadata": {},
   "outputs": [
    {
     "data": {
      "text/plain": [
       "titulos        object\n",
       "urls           object\n",
       "hubsci         object\n",
       "categoria      object\n",
       "autores        object\n",
       "descripcion    object\n",
       "año             int32\n",
       "dtype: object"
      ]
     },
     "execution_count": 61,
     "metadata": {},
     "output_type": "execute_result"
    }
   ],
   "source": [
    "Arti.dtypes"
   ]
  },
  {
   "cell_type": "code",
   "execution_count": 62,
   "metadata": {},
   "outputs": [
    {
     "data": {
      "text/plain": [
       "(176, 1020, 1039, 160, 249)"
      ]
     },
     "execution_count": 62,
     "metadata": {},
     "output_type": "execute_result"
    }
   ],
   "source": [
    "Arti.titulos.str.len().max(),Arti.urls.str.len().max(),Arti.hubsci.str.len().max(),Arti.autores.str.len().max(),Arti.descripcion.str.len().max()"
   ]
  },
  {
   "attachments": {},
   "cell_type": "markdown",
   "metadata": {},
   "source": [
    "Creacion de base de datos"
   ]
  },
  {
   "cell_type": "code",
   "execution_count": 64,
   "metadata": {},
   "outputs": [],
   "source": [
    "import mysql.connector as conn"
   ]
  },
  {
   "cell_type": "code",
   "execution_count": 77,
   "metadata": {},
   "outputs": [],
   "source": [
    "conexion = conn.connect(host='127.0.0.1',                      #nombre del server\n",
    "                        user='root',                           #nombre del usuario\n",
    "                        passwd='Sebitas18Da')                  #contraseña del server\n",
    "cursor = conexion.cursor()\n"
   ]
  },
  {
   "cell_type": "code",
   "execution_count": 78,
   "metadata": {},
   "outputs": [],
   "source": [
    "cursor.execute('drop database if exists Articulos_neurociencia;')\n",
    "cursor.execute('create database Articulos_neurociencia;')"
   ]
  },
  {
   "cell_type": "code",
   "execution_count": 79,
   "metadata": {},
   "outputs": [],
   "source": [
    "db=conn.connect(host='127.0.0.1',\n",
    "                user='root',\n",
    "                passwd='Sebitas18Da',\n",
    "                database='Articulos_neurociencia')\n",
    "cursor=db.cursor()"
   ]
  },
  {
   "cell_type": "code",
   "execution_count": 80,
   "metadata": {},
   "outputs": [],
   "source": [
    "def insertor(df,table):\n",
    "    nombre_table2=table\n",
    "    nombre_columns2=','.join(df.columns)\n",
    "    for e in range(len(df)):\n",
    "        valores=tuple(df.iloc[e].values)\n",
    "        insert_query = f'insert into {nombre_table2} ({nombre_columns2}) values {valores}'\n",
    "        cursor.execute(insert_query)"
   ]
  },
  {
   "cell_type": "code",
   "execution_count": 81,
   "metadata": {},
   "outputs": [],
   "source": [
    "cursor.execute('drop table if exists Arti;')\n",
    "query='''\n",
    "create table Arti (\n",
    "ID_arti int primary key not null,\n",
    "titulos  varchar(176), \n",
    "urls  varchar(1020),\n",
    "hubsci varchar(1040),\n",
    "categoria varchar(40),\n",
    "autores varchar(160),\n",
    "descripcion varchar(250),\n",
    "año int)'''\n",
    "cursor.execute(query)\n",
    "insertor(Articulos,'Arti')"
   ]
  },
  {
   "cell_type": "code",
   "execution_count": 83,
   "metadata": {},
   "outputs": [],
   "source": [
    "cursor.execute('drop table if exists A;')\n",
    "query='''\n",
    "create table A (\n",
    "ID int primary key not null)'''\n",
    "cursor.execute(query)"
   ]
  },
  {
   "cell_type": "code",
   "execution_count": 82,
   "metadata": {},
   "outputs": [
    {
     "name": "stdout",
     "output_type": "stream",
     "text": [
      "(0, 'The role of the right temporoparietal junction in attention and social interaction as revealed by ale meta-analysis', 'https://link.springer.com/article/10.1007/s00429-014-0803-z', 'https://sci-hub.se/https://link.springer.com/article/10.1007/s00429-014-0803-z', 'NeuroCiencia', 'Krall,S.C.,Rottschy,C.,Oberwelland,E.,Bzdok,D.,Fox,P.T.,Eickhoff,S.B.,…Konrad,', 'The role of the right temporoparietal junction in attention and social interaction as revealed by ALE meta-analysis. Brain Structure and Function, 220(2), 587–604.', 2014)\n",
      "(1, 'The role of the right temporoparietal junction in social interaction: how low-level computational processes contribute to meta-cognition', 'https://journals.sagepub.com/doi/pdf/10.1177/1073858407304654', 'https://sci-hub.se/https://journals.sagepub.com/doi/pdf/10.1177/1073858407304654', 'NeuroCiencia', 'Decety,J.,&Lamm,', 'The Role of the Right Temporoparietal Junction in Social Interaction: How Low-Level Computational Processes Contribute to Meta-Cognition. The Neuroscientist, 13(6), 580–593.', 2007)\n"
     ]
    }
   ],
   "source": [
    "cursor.execute('select * from Arti limit 2;')\n",
    "\n",
    "for x in cursor:\n",
    "    print(x)"
   ]
  },
  {
   "attachments": {},
   "cell_type": "markdown",
   "metadata": {},
   "source": []
  },
  {
   "cell_type": "code",
   "execution_count": null,
   "metadata": {},
   "outputs": [],
   "source": []
  }
 ],
 "metadata": {
  "kernelspec": {
   "display_name": "Python 3",
   "language": "python",
   "name": "python3"
  },
  "language_info": {
   "codemirror_mode": {
    "name": "ipython",
    "version": 3
   },
   "file_extension": ".py",
   "mimetype": "text/x-python",
   "name": "python",
   "nbconvert_exporter": "python",
   "pygments_lexer": "ipython3",
   "version": "3.9.2rc1"
  },
  "orig_nbformat": 4
 },
 "nbformat": 4,
 "nbformat_minor": 2
}
